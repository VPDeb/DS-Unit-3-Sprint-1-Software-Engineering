{
 "cells": [
  {
   "cell_type": "code",
   "execution_count": 1,
   "metadata": {},
   "outputs": [
    {
     "name": "stdout",
     "output_type": "stream",
     "text": [
      "Looking in indexes: https://test.pypi.org/simple/\n",
      "Requirement already satisfied: lambdata-VDeb in /Users/victoriadebebe/.local/share/virtualenvs/DS-Unit-3-Sprint-1-Software-Engineering-BU1N3AG5/lib/python3.8/site-packages (0.0.3)\n",
      "Requirement already satisfied: numpy in /Users/victoriadebebe/.local/share/virtualenvs/DS-Unit-3-Sprint-1-Software-Engineering-BU1N3AG5/lib/python3.8/site-packages (from lambdata-VDeb) (1.19.2)\n",
      "Requirement already satisfied: pandas in /Users/victoriadebebe/.local/share/virtualenvs/DS-Unit-3-Sprint-1-Software-Engineering-BU1N3AG5/lib/python3.8/site-packages (from lambdata-VDeb) (1.1.3)\n",
      "Requirement already satisfied: pytz>=2017.2 in /Users/victoriadebebe/.local/share/virtualenvs/DS-Unit-3-Sprint-1-Software-Engineering-BU1N3AG5/lib/python3.8/site-packages (from pandas->lambdata-VDeb) (2020.1)\n",
      "Requirement already satisfied: python-dateutil>=2.7.3 in /Users/victoriadebebe/.local/share/virtualenvs/DS-Unit-3-Sprint-1-Software-Engineering-BU1N3AG5/lib/python3.8/site-packages (from pandas->lambdata-VDeb) (2.8.1)\n",
      "Requirement already satisfied: six>=1.5 in /Users/victoriadebebe/.local/share/virtualenvs/DS-Unit-3-Sprint-1-Software-Engineering-BU1N3AG5/lib/python3.8/site-packages (from python-dateutil>=2.7.3->pandas->lambdata-VDeb) (1.15.0)\n"
     ]
    }
   ],
   "source": [
    "!pip install --index-url https://test.pypi.org/simple/ lambdata-VDeb"
   ]
  },
  {
   "cell_type": "code",
   "execution_count": 2,
   "metadata": {},
   "outputs": [
    {
     "name": "stdout",
     "output_type": "stream",
     "text": [
      "Looking in indexes: https://test.pypi.org/simple/\n",
      "Requirement already satisfied: lambdata-vdeb==0.0.3 in /Users/victoriadebebe/.local/share/virtualenvs/DS-Unit-3-Sprint-1-Software-Engineering-BU1N3AG5/lib/python3.8/site-packages (0.0.3)\n",
      "Requirement already satisfied: pandas in /Users/victoriadebebe/.local/share/virtualenvs/DS-Unit-3-Sprint-1-Software-Engineering-BU1N3AG5/lib/python3.8/site-packages (from lambdata-vdeb==0.0.3) (1.1.3)\n",
      "Requirement already satisfied: numpy in /Users/victoriadebebe/.local/share/virtualenvs/DS-Unit-3-Sprint-1-Software-Engineering-BU1N3AG5/lib/python3.8/site-packages (from lambdata-vdeb==0.0.3) (1.19.2)\n",
      "Requirement already satisfied: python-dateutil>=2.7.3 in /Users/victoriadebebe/.local/share/virtualenvs/DS-Unit-3-Sprint-1-Software-Engineering-BU1N3AG5/lib/python3.8/site-packages (from pandas->lambdata-vdeb==0.0.3) (2.8.1)\n",
      "Requirement already satisfied: pytz>=2017.2 in /Users/victoriadebebe/.local/share/virtualenvs/DS-Unit-3-Sprint-1-Software-Engineering-BU1N3AG5/lib/python3.8/site-packages (from pandas->lambdata-vdeb==0.0.3) (2020.1)\n",
      "Requirement already satisfied: six>=1.5 in /Users/victoriadebebe/.local/share/virtualenvs/DS-Unit-3-Sprint-1-Software-Engineering-BU1N3AG5/lib/python3.8/site-packages (from python-dateutil>=2.7.3->pandas->lambdata-vdeb==0.0.3) (1.15.0)\n"
     ]
    }
   ],
   "source": [
    "!pip install -i https://test.pypi.org/simple/ lambdata-vdeb==0.0.3"
   ]
  },
  {
   "cell_type": "code",
   "execution_count": 3,
   "metadata": {},
   "outputs": [],
   "source": [
    "import pandas as pd\n",
    "import numpy as np"
   ]
  },
  {
   "cell_type": "code",
   "execution_count": 4,
   "metadata": {},
   "outputs": [
    {
     "name": "stdout",
     "output_type": "stream",
     "text": [
      "(48842, 15)\n"
     ]
    }
   ],
   "source": [
    "census = pd.read_csv('https://raw.githubusercontent.com/VPDeb/DS-Unit-2-Applied-Modeling/master/Build%20Week%20Project/census.csv')\n",
    "print(census.shape)"
   ]
  },
  {
   "cell_type": "code",
   "execution_count": 5,
   "metadata": {},
   "outputs": [],
   "source": [
    "\n",
    "from lambdata_vdeb import example_module\n"
   ]
  },
  {
   "cell_type": "code",
   "execution_count": 7,
   "metadata": {},
   "outputs": [
    {
     "data": {
      "text/plain": [
       "(('?:',\n",
       "  age                  0\n",
       "  workclass         2799\n",
       "  fnlwgt               0\n",
       "  education            0\n",
       "  education-num        0\n",
       "  marital-status       0\n",
       "  occupation        2809\n",
       "  relationship         0\n",
       "  race                 0\n",
       "  sex                  0\n",
       "  capital-gain         0\n",
       "  capital-loss         0\n",
       "  hours-per-week       0\n",
       "  native-country     857\n",
       "  income               0\n",
       "  dtype: int64),\n",
       " ('none:',\n",
       "  age               0\n",
       "  workclass         0\n",
       "  fnlwgt            0\n",
       "  education         0\n",
       "  education-num     0\n",
       "  marital-status    0\n",
       "  occupation        0\n",
       "  relationship      0\n",
       "  race              0\n",
       "  sex               0\n",
       "  capital-gain      0\n",
       "  capital-loss      0\n",
       "  hours-per-week    0\n",
       "  native-country    0\n",
       "  income            0\n",
       "  dtype: int64),\n",
       " ('null:',\n",
       "  age               0\n",
       "  workclass         0\n",
       "  fnlwgt            0\n",
       "  education         0\n",
       "  education-num     0\n",
       "  marital-status    0\n",
       "  occupation        0\n",
       "  relationship      0\n",
       "  race              0\n",
       "  sex               0\n",
       "  capital-gain      0\n",
       "  capital-loss      0\n",
       "  hours-per-week    0\n",
       "  native-country    0\n",
       "  income            0\n",
       "  dtype: int64),\n",
       " ('nan:',\n",
       "  age               0\n",
       "  workclass         0\n",
       "  fnlwgt            0\n",
       "  education         0\n",
       "  education-num     0\n",
       "  marital-status    0\n",
       "  occupation        0\n",
       "  relationship      0\n",
       "  race              0\n",
       "  sex               0\n",
       "  capital-gain      0\n",
       "  capital-loss      0\n",
       "  hours-per-week    0\n",
       "  native-country    0\n",
       "  income            0\n",
       "  dtype: int64))"
      ]
     },
     "execution_count": 7,
     "metadata": {},
     "output_type": "execute_result"
    }
   ],
   "source": [
    "example_module.df_cleaner(census)"
   ]
  },
  {
   "cell_type": "code",
   "execution_count": 8,
   "metadata": {},
   "outputs": [],
   "source": [
    "census.replace({'?': np.NaN}, inplace=True)"
   ]
  },
  {
   "cell_type": "code",
   "execution_count": 9,
   "metadata": {},
   "outputs": [],
   "source": [
    "census['workclass'].replace({np.NaN : 'Private'},inplace=True)\n",
    "census['occupation'].replace({np.NaN : 'Prof-specialty'}, inplace=True)\n",
    "census['native-country'].replace({np.NaN : 'United-States'},inplace=True)"
   ]
  },
  {
   "cell_type": "code",
   "execution_count": 11,
   "metadata": {},
   "outputs": [
    {
     "data": {
      "text/plain": [
       "(('Training Set:', (29305, 15)),\n",
       " ('Validation Set:', (9768, 15)),\n",
       " ('Test Set', (9769, 15)))"
      ]
     },
     "execution_count": 11,
     "metadata": {},
     "output_type": "execute_result"
    }
   ],
   "source": [
    "example_module.df_split(census)"
   ]
  },
  {
   "cell_type": "code",
   "execution_count": null,
   "metadata": {},
   "outputs": [],
   "source": []
  },
  {
   "cell_type": "code",
   "execution_count": null,
   "metadata": {},
   "outputs": [],
   "source": []
  }
 ],
 "metadata": {
  "kernelspec": {
   "display_name": "Python 3",
   "language": "python",
   "name": "python3"
  },
  "language_info": {
   "codemirror_mode": {
    "name": "ipython",
    "version": 3
   },
   "file_extension": ".py",
   "mimetype": "text/x-python",
   "name": "python",
   "nbconvert_exporter": "python",
   "pygments_lexer": "ipython3",
   "version": "3.8.5"
  }
 },
 "nbformat": 4,
 "nbformat_minor": 4
}
