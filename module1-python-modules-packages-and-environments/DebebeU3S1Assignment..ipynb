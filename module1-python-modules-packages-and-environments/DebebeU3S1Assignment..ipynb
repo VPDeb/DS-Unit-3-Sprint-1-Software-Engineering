{
 "cells": [
  {
   "cell_type": "code",
   "execution_count": 1,
   "metadata": {},
   "outputs": [
    {
     "name": "stdout",
     "output_type": "stream",
     "text": [
      "Looking in indexes: https://test.pypi.org/simple/\n",
      "Requirement already satisfied: lambdata-vdeb==0.0.3 in /Users/victoriadebebe/.local/share/virtualenvs/DS-Unit-3-Sprint-1-Software-Engineering-BU1N3AG5/lib/python3.8/site-packages (0.0.3)\n",
      "Requirement already satisfied: numpy in /Users/victoriadebebe/.local/share/virtualenvs/DS-Unit-3-Sprint-1-Software-Engineering-BU1N3AG5/lib/python3.8/site-packages (from lambdata-vdeb==0.0.3) (1.19.2)\n",
      "Requirement already satisfied: pandas in /Users/victoriadebebe/.local/share/virtualenvs/DS-Unit-3-Sprint-1-Software-Engineering-BU1N3AG5/lib/python3.8/site-packages (from lambdata-vdeb==0.0.3) (1.1.3)\n",
      "Requirement already satisfied: pytz>=2017.2 in /Users/victoriadebebe/.local/share/virtualenvs/DS-Unit-3-Sprint-1-Software-Engineering-BU1N3AG5/lib/python3.8/site-packages (from pandas->lambdata-vdeb==0.0.3) (2020.1)\n",
      "Requirement already satisfied: python-dateutil>=2.7.3 in /Users/victoriadebebe/.local/share/virtualenvs/DS-Unit-3-Sprint-1-Software-Engineering-BU1N3AG5/lib/python3.8/site-packages (from pandas->lambdata-vdeb==0.0.3) (2.8.1)\n",
      "Requirement already satisfied: six>=1.5 in /Users/victoriadebebe/.local/share/virtualenvs/DS-Unit-3-Sprint-1-Software-Engineering-BU1N3AG5/lib/python3.8/site-packages (from python-dateutil>=2.7.3->pandas->lambdata-vdeb==0.0.3) (1.15.0)\n"
     ]
    }
   ],
   "source": [
    "!pip install -i https://test.pypi.org/simple/ lambdata-vdeb==0.0.3"
   ]
  },
  {
   "cell_type": "code",
   "execution_count": 6,
   "metadata": {},
   "outputs": [
    {
     "name": "stdout",
     "output_type": "stream",
     "text": [
      "Looking in indexes: https://test.pypi.org/simple/\n",
      "Requirement already satisfied: lambdata-VDeb in /Users/victoriadebebe/.local/share/virtualenvs/DS-Unit-3-Sprint-1-Software-Engineering-BU1N3AG5/lib/python3.8/site-packages (0.0.3)\n",
      "Requirement already satisfied: pandas in /Users/victoriadebebe/.local/share/virtualenvs/DS-Unit-3-Sprint-1-Software-Engineering-BU1N3AG5/lib/python3.8/site-packages (from lambdata-VDeb) (1.1.3)\n",
      "Requirement already satisfied: numpy in /Users/victoriadebebe/.local/share/virtualenvs/DS-Unit-3-Sprint-1-Software-Engineering-BU1N3AG5/lib/python3.8/site-packages (from lambdata-VDeb) (1.19.2)\n",
      "Requirement already satisfied: python-dateutil>=2.7.3 in /Users/victoriadebebe/.local/share/virtualenvs/DS-Unit-3-Sprint-1-Software-Engineering-BU1N3AG5/lib/python3.8/site-packages (from pandas->lambdata-VDeb) (2.8.1)\n",
      "Requirement already satisfied: pytz>=2017.2 in /Users/victoriadebebe/.local/share/virtualenvs/DS-Unit-3-Sprint-1-Software-Engineering-BU1N3AG5/lib/python3.8/site-packages (from pandas->lambdata-VDeb) (2020.1)\n",
      "Requirement already satisfied: six>=1.5 in /Users/victoriadebebe/.local/share/virtualenvs/DS-Unit-3-Sprint-1-Software-Engineering-BU1N3AG5/lib/python3.8/site-packages (from python-dateutil>=2.7.3->pandas->lambdata-VDeb) (1.15.0)\n"
     ]
    }
   ],
   "source": [
    "!pip install --index-url https://test.pypi.org/simple/ lambdata-VDeb"
   ]
  },
  {
   "cell_type": "code",
   "execution_count": 2,
   "metadata": {},
   "outputs": [],
   "source": [
    "import pandas as pd\n",
    "import numpy as np"
   ]
  },
  {
   "cell_type": "code",
   "execution_count": 3,
   "metadata": {},
   "outputs": [
    {
     "name": "stdout",
     "output_type": "stream",
     "text": [
      "(48842, 15)\n"
     ]
    }
   ],
   "source": [
    "census = pd.read_csv('https://raw.githubusercontent.com/VPDeb/DS-Unit-2-Applied-Modeling/master/Build%20Week%20Project/census.csv')\n",
    "print(census.shape)"
   ]
  },
  {
   "cell_type": "code",
   "execution_count": 7,
   "metadata": {},
   "outputs": [],
   "source": [
    "import lambdata_vdeb as ld"
   ]
  },
  {
   "cell_type": "code",
   "execution_count": 8,
   "metadata": {},
   "outputs": [
    {
     "ename": "AttributeError",
     "evalue": "module 'lambdata_vdeb' has no attribute 'example_module'",
     "output_type": "error",
     "traceback": [
      "\u001b[0;31m---------------------------------------------------------------------------\u001b[0m",
      "\u001b[0;31mAttributeError\u001b[0m                            Traceback (most recent call last)",
      "\u001b[0;32m<ipython-input-8-2f073d488778>\u001b[0m in \u001b[0;36m<module>\u001b[0;34m\u001b[0m\n\u001b[0;32m----> 1\u001b[0;31m \u001b[0mld\u001b[0m\u001b[0;34m.\u001b[0m\u001b[0mexample_module\u001b[0m\u001b[0;34m.\u001b[0m\u001b[0mdf_split\u001b[0m\u001b[0;34m(\u001b[0m\u001b[0mcensus\u001b[0m\u001b[0;34m)\u001b[0m\u001b[0;34m\u001b[0m\u001b[0;34m\u001b[0m\u001b[0m\n\u001b[0m",
      "\u001b[0;31mAttributeError\u001b[0m: module 'lambdata_vdeb' has no attribute 'example_module'"
     ]
    }
   ],
   "source": [
    "ld.example_module.df_split(census)"
   ]
  },
  {
   "cell_type": "code",
   "execution_count": null,
   "metadata": {},
   "outputs": [],
   "source": []
  }
 ],
 "metadata": {
  "kernelspec": {
   "display_name": "Python 3",
   "language": "python",
   "name": "python3"
  },
  "language_info": {
   "codemirror_mode": {
    "name": "ipython",
    "version": 3
   },
   "file_extension": ".py",
   "mimetype": "text/x-python",
   "name": "python",
   "nbconvert_exporter": "python",
   "pygments_lexer": "ipython3",
   "version": "3.8.5"
  }
 },
 "nbformat": 4,
 "nbformat_minor": 4
}
